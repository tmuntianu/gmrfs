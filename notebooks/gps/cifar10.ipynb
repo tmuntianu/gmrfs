{
 "cells": [
  {
   "cell_type": "code",
   "execution_count": 1,
   "metadata": {},
   "outputs": [],
   "source": [
    "import torch, torchvision, gpytorch\n",
    "import torchvision.transforms as transforms\n",
    "from convgp.model import ConvClassificationModel\n",
    "from tqdm.notebook import tqdm\n",
    "import numpy as np\n",
    "from numpy.random import choice"
   ]
  },
  {
   "cell_type": "markdown",
   "metadata": {},
   "source": [
    "## Load in the CIFAR10 data"
   ]
  },
  {
   "cell_type": "code",
   "execution_count": 2,
   "metadata": {},
   "outputs": [
    {
     "name": "stdout",
     "output_type": "stream",
     "text": [
      "Files already downloaded and verified\n",
      "Files already downloaded and verified\n"
     ]
    }
   ],
   "source": [
    "batch_size = 5\n",
    "transform = transforms.Compose([transforms.ToTensor()])\n",
    "trainset = torchvision.datasets.CIFAR10(root='./data', train=True,\n",
    "                                        download=True, transform=transform)\n",
    "trainloader = torch.utils.data.DataLoader(trainset, batch_size=batch_size, #pin_memory=True,\n",
    "                                          shuffle=True, num_workers=2)\n",
    "\n",
    "testset = torchvision.datasets.CIFAR10(root='./data', train=False, \n",
    "                                       download=True, transform=transform)\n",
    "testloader = torch.utils.data.DataLoader(testset, batch_size=batch_size, #pin_memory=True,\n",
    "                                         shuffle=False, num_workers=2)\n",
    "\n",
    "classes = ('plane', 'car', 'bird', 'cat',\n",
    "           'deer', 'dog', 'frog', 'horse', 'ship', 'truck')"
   ]
  },
  {
   "cell_type": "markdown",
   "metadata": {},
   "source": [
    "## Creating the model, learning hyperparameters (and variational parameters)"
   ]
  },
  {
   "cell_type": "code",
   "execution_count": 3,
   "metadata": {
    "scrolled": true
   },
   "outputs": [],
   "source": [
    "img_shape = (32, 32)\n",
    "patch_shape = (10, 10)\n",
    "n_channels = 3\n",
    "n_classes = 10\n",
    "n_epochs = 1\n",
    "\n",
    "rand_idx = choice(len(trainset), batch_size)\n",
    "inducing_points = torch.cat([trainset[i][0][None,:] for i in rand_idx]).cuda()\n",
    "# inducing_points = torch.randn(batch_size, n_channels, *img_shape).cuda()\n",
    "model = ConvClassificationModel(inducing_points, patch_shape, n_classes).cuda()\n",
    "# for key, kern in model.covar_module.base_kernels.items():\n",
    "#     model.covar_module.base_kernels[key] = kern.cuda()\n",
    "    \n",
    "likelihood = gpytorch.likelihoods.SoftmaxLikelihood(num_features=n_classes, num_classes=n_classes).cuda()\n",
    "mll = gpytorch.mlls.VariationalELBO(likelihood, model, num_data=len(trainset), beta=0.2)\n",
    "optim = torch.optim.Adam(list(model.parameters())+ list(model.covar_module.parameters()) + list(likelihood.parameters()))"
   ]
  },
  {
   "cell_type": "code",
   "execution_count": 4,
   "metadata": {
    "scrolled": true
   },
   "outputs": [
    {
     "data": {
      "application/vnd.jupyter.widget-view+json": {
       "model_id": "6c97130265824b149bdd1f10fb18f61a",
       "version_major": 2,
       "version_minor": 0
      },
      "text/plain": [
       "HBox(children=(FloatProgress(value=0.0, max=10000.0), HTML(value='')))"
      ]
     },
     "metadata": {},
     "output_type": "display_data"
    },
    {
     "name": "stdout",
     "output_type": "stream",
     "text": [
      "\n"
     ]
    }
   ],
   "source": [
    "model.train()\n",
    "likelihood.train()\n",
    "\n",
    "train_iter = tqdm(trainloader)\n",
    "with gpytorch.settings.lazily_evaluate_kernels(False):\n",
    "    for _ in range(n_epochs):\n",
    "        for x, y in train_iter:\n",
    "            x = x.cuda(); y = y.cuda()\n",
    "            optim.zero_grad()\n",
    "            output = model(x)\n",
    "            loss = -mll(output, y)\n",
    "            loss.backward()\n",
    "            train_iter.set_postfix(loss=loss.item())\n",
    "            optim.step()\n",
    "            del x; del y; del output; del loss; torch.cuda.empty_cache()"
   ]
  },
  {
   "cell_type": "code",
   "execution_count": 5,
   "metadata": {},
   "outputs": [],
   "source": [
    "torch.save(model.state_dict(), 'model.pth')"
   ]
  },
  {
   "cell_type": "code",
   "execution_count": 6,
   "metadata": {},
   "outputs": [
    {
     "data": {
      "application/vnd.jupyter.widget-view+json": {
       "model_id": "230200c22ec24b63bffb5f02bab22a0e",
       "version_major": 2,
       "version_minor": 0
      },
      "text/plain": [
       "HBox(children=(FloatProgress(value=0.0, max=2000.0), HTML(value='')))"
      ]
     },
     "metadata": {},
     "output_type": "display_data"
    },
    {
     "name": "stdout",
     "output_type": "stream",
     "text": [
      "\n"
     ]
    }
   ],
   "source": [
    "model.eval()\n",
    "likelihood.eval()\n",
    "\n",
    "correct = 0\n",
    "test_iter = tqdm(testloader)\n",
    "with torch.no_grad(), gpytorch.settings.lazily_evaluate_kernels(False), gpytorch.settings.num_likelihood_samples(20):\n",
    "    for i, (x, y) in enumerate(test_iter,1):\n",
    "        x = x.cuda(); y = y.cuda()\n",
    "        pred = likelihood(model(x))\n",
    "        pred = pred.probs.mean(0).argmax(-1)\n",
    "        correct += int(pred.eq(y.view_as(pred)).cpu().sum())\n",
    "        test_iter.set_postfix(acc=(correct/(i*batch_size)))"
   ]
  },
  {
   "cell_type": "code",
   "execution_count": null,
   "metadata": {},
   "outputs": [],
   "source": []
  },
  {
   "cell_type": "code",
   "execution_count": null,
   "metadata": {},
   "outputs": [],
   "source": []
  },
  {
   "cell_type": "code",
   "execution_count": null,
   "metadata": {},
   "outputs": [],
   "source": []
  }
 ],
 "metadata": {
  "kernelspec": {
   "display_name": "Python 3",
   "language": "python",
   "name": "python3"
  },
  "language_info": {
   "codemirror_mode": {
    "name": "ipython",
    "version": 3
   },
   "file_extension": ".py",
   "mimetype": "text/x-python",
   "name": "python",
   "nbconvert_exporter": "python",
   "pygments_lexer": "ipython3",
   "version": "3.7.4"
  }
 },
 "nbformat": 4,
 "nbformat_minor": 4
}
